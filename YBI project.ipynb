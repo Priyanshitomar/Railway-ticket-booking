{
 "cells": [
  {
   "cell_type": "code",
   "execution_count": 2,
   "id": "dfffc825-8507-4bec-8fc9-927f5185a288",
   "metadata": {},
   "outputs": [],
   "source": [
    "import pandas as pd\n",
    "import random\n",
    "\n",
    "# Sample train data (replace with actual data)\n",
    "train_data = {\n",
    "    'Train': ['Shatabdi Express', 'Rajdhani Express', 'Garib Rath', 'Duronto Express'],\n",
    "    'Sleeper Seats': [100, 150, 200, 120],\n",
    "    'AC Seats': [50, 75, 60, 40],\n",
    "    'Sleeper Price': [500, 700, 300, 600],\n",
    "    'AC Price': [1200, 1500, 800, 1000]\n",
    "}\n",
    "\n",
    "# Create DataFrame\n",
    "trains = pd.DataFrame(train_data)"
   ]
  },
  {
   "cell_type": "code",
   "execution_count": 3,
   "id": "b660b8a2-e670-46fa-8a0b-ba92c8cec587",
   "metadata": {},
   "outputs": [],
   "source": [
    "# Function to check seat availability\n",
    "def check_availability(train, class_type, num_seats):\n",
    "    if train in trains['Train'].values:\n",
    "        index = trains[trains['Train'] == train].index[0]\n",
    "        \n",
    "        if class_type == \"Sleeper\":\n",
    "            return trains.loc[index, 'Sleeper Seats'] >= num_seats\n",
    "        elif class_type == \"AC\":\n",
    "            return trains.loc[index, 'AC Seats'] >= num_seats\n",
    "        else:\n",
    "            print(\"Invalid class type.\")\n",
    "            return False\n",
    "    else:\n",
    "        print(\"Train not found.\")\n",
    "        return False"
   ]
  },
  {
   "cell_type": "code",
   "execution_count": 4,
   "id": "4cff4c64-3c9f-409a-9fee-5cfcc4080253",
   "metadata": {},
   "outputs": [],
   "source": [
    "# Function to book tickets\n",
    "def book_tickets(train, class_type, num_seats):\n",
    "    if check_availability(train, class_type, num_seats):\n",
    "        index = trains[trains['Train'] == train].index[0]\n",
    "        \n",
    "        if class_type == \"Sleeper\":\n",
    "            trains.loc[index, 'Sleeper Seats'] -= num_seats\n",
    "            price = trains.loc[index, 'Sleeper Price']\n",
    "        elif class_type == \"AC\":\n",
    "            trains.loc[index, 'AC Seats'] -= num_seats\n",
    "            price = trains.loc[index, 'AC Price']\n",
    "\n",
    "        # Generate a random PNR number\n",
    "        pnr_number = ''.join(random.choices(\"0123456789ABCDEFGHIJKLMNOPQRSTUVWXYZ\", k=10))\n",
    "\n",
    "        print(\"\\n✅ Tickets booked successfully!\")\n",
    "        print(f\"📌 PNR Number: {pnr_number}\")\n",
    "        print(f\"🚆 Train: {train}\")\n",
    "        print(f\"💺 Class: {class_type}\")\n",
    "        print(f\"🎟️ Number of Seats: {num_seats}\")\n",
    "        print(f\"💰 Total Fare: {price * num_seats}\\n\")\n",
    "    else:\n",
    "        print(\"\\n❌ Booking failed. Seats not available.\")"
   ]
  },
  {
   "cell_type": "code",
   "execution_count": 5,
   "id": "1d5f6398-de6a-4ba2-a481-c28513ff7cdc",
   "metadata": {},
   "outputs": [
    {
     "name": "stdout",
     "output_type": "stream",
     "text": [
      "\n",
      "✅ Tickets booked successfully!\n",
      "📌 PNR Number: A0YV84Q8EZ\n",
      "🚆 Train: Shatabdi Express\n",
      "💺 Class: AC\n",
      "🎟️ Number of Seats: 2\n",
      "💰 Total Fare: 2400\n",
      "\n",
      "\n",
      "✅ Tickets booked successfully!\n",
      "📌 PNR Number: PNDXTFW08R\n",
      "🚆 Train: Rajdhani Express\n",
      "💺 Class: Sleeper\n",
      "🎟️ Number of Seats: 5\n",
      "💰 Total Fare: 3500\n",
      "\n",
      "\n",
      "📊 Updated Train Availability:\n",
      "               Train  Sleeper Seats  AC Seats  Sleeper Price  AC Price\n",
      "0  Shatabdi Express            100        48            500      1200\n",
      "1  Rajdhani Express            145        75            700      1500\n",
      "2        Garib Rath            200        60            300       800\n",
      "3   Duronto Express            120        40            600      1000\n"
     ]
    }
   ],
   "source": [
    "# Example usage\n",
    "book_tickets(\"Shatabdi Express\", \"AC\", 2)\n",
    "book_tickets(\"Rajdhani Express\", \"Sleeper\", 5)\n",
    "\n",
    "# Print updated seat availability\n",
    "print(\"\\n📊 Updated Train Availability:\\n\", trains)"
   ]
  },
  {
   "cell_type": "code",
   "execution_count": null,
   "id": "efc723e1-77a5-4af8-9459-cea59c8cfbf0",
   "metadata": {},
   "outputs": [],
   "source": []
  }
 ],
 "metadata": {
  "kernelspec": {
   "display_name": "Python 3 (ipykernel)",
   "language": "python",
   "name": "python3"
  },
  "language_info": {
   "codemirror_mode": {
    "name": "ipython",
    "version": 3
   },
   "file_extension": ".py",
   "mimetype": "text/x-python",
   "name": "python",
   "nbconvert_exporter": "python",
   "pygments_lexer": "ipython3",
   "version": "3.12.8"
  }
 },
 "nbformat": 4,
 "nbformat_minor": 5
}
